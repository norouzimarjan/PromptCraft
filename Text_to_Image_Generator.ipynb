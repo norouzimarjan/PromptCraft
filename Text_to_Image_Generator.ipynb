{
 "cells": [
  {
   "cell_type": "code",
   "execution_count": null,
   "metadata": {
    "id": "Ib4N1PHD8taP"
   },
   "outputs": [],
   "source": [
    "import gradio as gr\n",
    "from diffusers import StableDiffusionPipeline , StableDiffusionXLPipeline\n",
    "import torch\n",
    "import time"
   ]
  },
  {
   "cell_type": "markdown",
   "metadata": {
    "id": "TOXNKu3FANzU"
   },
   "source": [
    "**Load pre-trained Stable Diffusion models**"
   ]
  },
  {
   "cell_type": "code",
   "execution_count": null,
   "metadata": {
    "colab": {
     "base_uri": "https://localhost:8080/",
     "height": 402,
     "referenced_widgets": [
      "8a43be94f5f14376bb41b7d8dc1e969e",
      "8e7bcc4506ee4df38ff4302b505026ff",
      "8d588dac42d4417588fca139c21178ca",
      "ec1a2c50129448b09e46fc0bd8b704e9",
      "535141589efc4b9f8df4886a8e1362f5",
      "ef2c1267773348f3bb829cedcd8640df",
      "354afadd8dca4d66ade1c958e482f7ce",
      "24ae2d10c714442cbff91903b3488680",
      "c601f6b305ac45d59c23e3548ce4c9ef",
      "7c6e4f87ebaa444988fc98e61ab8370c",
      "eb386f2e903947e5984f072f9b657293",
      "49ced09088054b5882838dfacc345f9b",
      "2c6f98e10921466bb9204760ef00935e",
      "befab64ea3d84328a4ed57c6c9a22c36",
      "b494c78d70d04c598785a6d0724cb52d",
      "02eb30e79f764fe090beb81899f90d6a",
      "21c23c5ad2444b8ebe3f59b00106dd73",
      "47a56d04b9ce45f082878b28cf5be6e9",
      "2bf5837cbad44d64bfcd6ccedfa013b7",
      "1070e87669344faabf3ce294cd3b2bcd",
      "584db5f0cc9f413e8c0013422e71f0a2",
      "07fa2f34b1144029b258d13aac5512e9",
      "83a22427f6f64ca28705f75ad9043424",
      "54ebec8008bd4470b25cf3474c48e472",
      "4efeb9e1c3c740b086e1f72f202c6bc9",
      "9c1ec8e67d5949fea4891086434b9624",
      "804cdc782e6240478d223497761b475c",
      "34661cadc41e4c55a956366b4211db60",
      "de3b4fd5a49f473b88f59e871d598a30",
      "f1994e3cf3ad4c06b93d9e9c7c40c46e",
      "013eae1172bd45f98278fc0550032f72",
      "cd8f617628b044419d523c1482d5b7a9",
      "4aa8efdbfaf44bfe904bc441c0229b32",
      "9b1695800588460a99e72ffb905d1572",
      "58cce40b40d94ad981c4213dbeea6406",
      "185eb0d14b694a13b369fdcad0e19853",
      "385e966e5c69449fb4aaeb6a25fb4197",
      "854edefdb42c4469a76bff497fe40fb3",
      "0d126dfa6c1744d9b8b9ad6131f4d084",
      "9d0e1d07e7f745388bea3237164de9fc",
      "26df973a4b674c63ba387c9a4d688feb",
      "d2910ffa3da948448c912c012c145146",
      "080aaf74a6f94786bbe9dd0c85e82e3a",
      "baa090da5089439f9ef6d31627aff9a0",
      "b7ee49f2cac44c5f9a1898c05315f244",
      "d9974959e67541f89c496533c3ff83ef",
      "9ff4cbefc64b433d831fdc6a11ab271e",
      "1f2f76a1664d49b58d6681a1347de558",
      "5efb400638484921b3d55f21db5b3af3",
      "deeefb3f7d4b4eb8a69c981f3db82980",
      "d94c74614d7f4d83b291bdd1df61b164",
      "9c910f95cb2245fd811a33c64a77c7bf",
      "a6877f3cd2cc4d26a87695eca72c9ab6",
      "a99c0bcade55426981afa576dbd0e84a",
      "669541e6e6da4fb2b65493e92dfdfb95",
      "d60a3fe4c5b842f3a62eb0519284ab48",
      "b2d1ce3d106e41d1ae0fadc2f7b33c27",
      "a5f96400b25b4e619f34a0e99fab7940",
      "6e0501e042e54fc98d55a4f68c861a93",
      "ac8e95b3aeb04329afb49897f700ab1e",
      "b531bb45836e4a2a8b091656379e830f",
      "150e5da445ad484d9c94c4d6943fa832",
      "48e26797cd7944d599f045407cc6f673",
      "c9f1a4f67e954457b0d940fda2c61d3b",
      "65724e6dd2a642a0b862db759314e0c2",
      "df962f54c126412596d5f89a684c0d4d",
      "84d6336c510543b3b0cadec4d29b87c9",
      "564bb20147f7406487eea4d9cfb31c9a",
      "61d6e5429d554dd5ab44c5363c29f842",
      "7916f0b248e1404e86177c80f1d8837d",
      "4af3eed6044347f893d178a8b7f662e5",
      "3cefbc55507e4f0c9bd37fa7a050169e",
      "7f793a4b886f46579ad0cdd8253253fb",
      "f68d1207ef66415fbfeb44b859d1a65b",
      "6f8451617041498ba2ee5d0a731877ac",
      "b7a257b6d71e425ea45d4ff834eefd75",
      "054abbc2ab5d4b7aa939c7a22bddb71d",
      "2e823c1dac814a6f8b522b4f3163407b",
      "4a77256cf8814bcb8b2ec7a574c40830",
      "f32816f401ac4a30b415cd82aac7be0f",
      "3e6bbdd240cd401da9439ff18be1c4ba",
      "6783890bda9e450bb76534bbae8a2250",
      "064d8dc513af446da84fa73b344a01ab",
      "3047cd199d054093973c6947495cf5b2",
      "b034b595c73a4f1b82473e2b4d4d32b2",
      "15fb0f96a33e4f7b9c12bb4ca795175e",
      "1cfb1a10ad594fe9b12310752474c320",
      "efe2832493824821af5d8dbaf9e58d6b"
     ]
    },
    "collapsed": true,
    "id": "xq9BLmTo8zTC",
    "outputId": "f27c74f1-d063-43f3-cd0c-a07b5fb2f5ac"
   },
   "outputs": [
    {
     "name": "stderr",
     "output_type": "stream",
     "text": [
      "/usr/local/lib/python3.11/dist-packages/huggingface_hub/utils/_auth.py:94: UserWarning: \n",
      "The secret `HF_TOKEN` does not exist in your Colab secrets.\n",
      "To authenticate with the Hugging Face Hub, create a token in your settings tab (https://huggingface.co/settings/tokens), set it as secret in your Google Colab and restart your session.\n",
      "You will be able to reuse this secret in all of your notebooks.\n",
      "Please note that authentication is recommended but still optional to access public models or datasets.\n",
      "  warnings.warn(\n"
     ]
    },
    {
     "data": {
      "application/vnd.jupyter.widget-view+json": {
       "model_id": "8a43be94f5f14376bb41b7d8dc1e969e",
       "version_major": 2,
       "version_minor": 0
      },
      "text/plain": [
       "Loading pipeline components...:   0%|          | 0/7 [00:00<?, ?it/s]"
      ]
     },
     "metadata": {},
     "output_type": "display_data"
    },
    {
     "data": {
      "application/vnd.jupyter.widget-view+json": {
       "model_id": "49ced09088054b5882838dfacc345f9b",
       "version_major": 2,
       "version_minor": 0
      },
      "text/plain": [
       "Fetching 19 files:   0%|          | 0/19 [00:00<?, ?it/s]"
      ]
     },
     "metadata": {},
     "output_type": "display_data"
    },
    {
     "data": {
      "application/vnd.jupyter.widget-view+json": {
       "model_id": "83a22427f6f64ca28705f75ad9043424",
       "version_major": 2,
       "version_minor": 0
      },
      "text/plain": [
       "text_encoder/model.fp16.safetensors:   0%|          | 0.00/246M [00:00<?, ?B/s]"
      ]
     },
     "metadata": {},
     "output_type": "display_data"
    },
    {
     "data": {
      "application/vnd.jupyter.widget-view+json": {
       "model_id": "9b1695800588460a99e72ffb905d1572",
       "version_major": 2,
       "version_minor": 0
      },
      "text/plain": [
       "vae/diffusion_pytorch_model.fp16.safeten(…):   0%|          | 0.00/167M [00:00<?, ?B/s]"
      ]
     },
     "metadata": {},
     "output_type": "display_data"
    },
    {
     "data": {
      "application/vnd.jupyter.widget-view+json": {
       "model_id": "b7ee49f2cac44c5f9a1898c05315f244",
       "version_major": 2,
       "version_minor": 0
      },
      "text/plain": [
       "text_encoder_2/model.fp16.safetensors:   0%|          | 0.00/1.39G [00:00<?, ?B/s]"
      ]
     },
     "metadata": {},
     "output_type": "display_data"
    },
    {
     "data": {
      "application/vnd.jupyter.widget-view+json": {
       "model_id": "d60a3fe4c5b842f3a62eb0519284ab48",
       "version_major": 2,
       "version_minor": 0
      },
      "text/plain": [
       "unet/diffusion_pytorch_model.fp16.safete(…):   0%|          | 0.00/5.14G [00:00<?, ?B/s]"
      ]
     },
     "metadata": {},
     "output_type": "display_data"
    },
    {
     "data": {
      "application/vnd.jupyter.widget-view+json": {
       "model_id": "84d6336c510543b3b0cadec4d29b87c9",
       "version_major": 2,
       "version_minor": 0
      },
      "text/plain": [
       "vae_1_0/diffusion_pytorch_model.fp16.saf(…):   0%|          | 0.00/167M [00:00<?, ?B/s]"
      ]
     },
     "metadata": {},
     "output_type": "display_data"
    },
    {
     "data": {
      "application/vnd.jupyter.widget-view+json": {
       "model_id": "2e823c1dac814a6f8b522b4f3163407b",
       "version_major": 2,
       "version_minor": 0
      },
      "text/plain": [
       "Loading pipeline components...:   0%|          | 0/7 [00:00<?, ?it/s]"
      ]
     },
     "metadata": {},
     "output_type": "display_data"
    }
   ],
   "source": [
    "pipe_1_5 = StableDiffusionPipeline.from_pretrained(\n",
    "    \"runwayml/stable-diffusion-v1-5\", torch_dtype=torch.float16\n",
    ").to(\"cuda\")\n",
    "\n",
    "pipe_sdxl =  StableDiffusionXLPipeline.from_pretrained(\n",
    "    \"stabilityai/stable-diffusion-xl-base-1.0\",\n",
    "    torch_dtype=torch.float16,\n",
    "    variant=\"fp16\"\n",
    ").to(\"cuda\")"
   ]
  },
  {
   "cell_type": "markdown",
   "metadata": {
    "id": "u6FNDyJUAT8J"
   },
   "source": [
    "**Image generation function**"
   ]
  },
  {
   "cell_type": "code",
   "execution_count": null,
   "metadata": {
    "id": "vbPjzcvO1aH2"
   },
   "outputs": [],
   "source": [
    "# History of generated images\n",
    "history_images = []\n",
    "\n",
    "def generate(prompt, negative_prompt, model_name, style, cfg_scale, size):\n",
    "    start = time.time()\n",
    "\n",
    "    full_prompt = f\"{prompt}, {style}\" if style else prompt\n",
    "    width, height = map(int, size.split(\"x\"))\n",
    "\n",
    "    pipe = pipe_1_5 if model_name == \"SD 1.5\" else pipe_sdxl\n",
    "    result = pipe(\n",
    "        prompt=full_prompt,\n",
    "        negative_prompt=negative_prompt,\n",
    "        guidance_scale=cfg_scale,\n",
    "        height=height,\n",
    "        width=width\n",
    "    )\n",
    "    image = result.images[0]\n",
    "    duration = round(time.time() - start, 2)\n",
    "\n",
    "    history_images.append(image)\n",
    "\n",
    "    return image, f\"Generated in {duration} seconds\", history_images\n"
   ]
  },
  {
   "cell_type": "markdown",
   "metadata": {
    "id": "f3OwaL4MAYxo"
   },
   "source": [
    "**Gradio UI**"
   ]
  },
  {
   "cell_type": "code",
   "execution_count": null,
   "metadata": {
    "colab": {
     "base_uri": "https://localhost:8080/",
     "height": 650
    },
    "id": "ikZ9s_IB1do-",
    "outputId": "e8785390-02be-4dda-d22c-c592ea2fb2c2"
   },
   "outputs": [
    {
     "name": "stdout",
     "output_type": "stream",
     "text": [
      "It looks like you are running Gradio on a hosted a Jupyter notebook. For the Gradio app to work, sharing must be enabled. Automatically setting `share=True` (you can turn this off by setting `share=False` in `launch()` explicitly).\n",
      "\n",
      "Colab notebook detected. To show errors in colab notebook, set debug=True in launch()\n",
      "* Running on public URL: https://b5a1285f6b4faf2ee9.gradio.live\n",
      "\n",
      "This share link expires in 1 week. For free permanent hosting and GPU upgrades, run `gradio deploy` from the terminal in the working directory to deploy to Hugging Face Spaces (https://huggingface.co/spaces)\n"
     ]
    },
    {
     "data": {
      "text/html": [
       "<div><iframe src=\"https://b5a1285f6b4faf2ee9.gradio.live\" width=\"100%\" height=\"500\" allow=\"autoplay; camera; microphone; clipboard-read; clipboard-write;\" frameborder=\"0\" allowfullscreen></iframe></div>"
      ],
      "text/plain": [
       "<IPython.core.display.HTML object>"
      ]
     },
     "metadata": {},
     "output_type": "display_data"
    },
    {
     "data": {
      "text/plain": []
     },
     "execution_count": 8,
     "metadata": {},
     "output_type": "execute_result"
    }
   ],
   "source": [
    "with gr.Blocks(css=\".gr-button {background-color: #6366f1 !important; color: white}\") as demo:\n",
    "    gr.Markdown(\n",
    "        \"\"\"\n",
    "        # Prompt-to-Image Generator\n",
    "        Generate high-quality images using Stable Diffusion 1.5 or SDXL.\n",
    "        \"\"\"\n",
    "    )\n",
    "    with gr.Row():\n",
    "        with gr.Column(scale=1):\n",
    "            prompt = gr.Textbox(label=\"Prompt\", placeholder=\"Describe the image...\")\n",
    "            negative_prompt = gr.Textbox(label=\"Negative Prompt\", placeholder=\"What do you NOT want in the image?\")\n",
    "            style = gr.Dropdown(label=\"Style / Theme\", choices=[\"\", \"cyberpunk\", \"watercolor\", \"anime\", \"3D render\", \"photo-realistic\"] , value=\"watercolor\")\n",
    "\n",
    "            # Choose between two model versions\n",
    "            model_name = gr.Radio(choices=[\"SD 1.5\", \"SDXL\"], label=\"Model\")\n",
    "\n",
    "            # CFG scale slider: how strictly the model should follow the prompt\n",
    "            cfg = gr.Slider(1, 15, value=7, label=\"CFG Scale\", info=\"How strongly the model follows your prompt\")\n",
    "\n",
    "            # Select output resolution\n",
    "            size = gr.Dropdown(\n",
    "                [\"512x512\", \"768x512\", \"512x768\"],\n",
    "                value=\"512x512\",\n",
    "                label=\"Image Size\"\n",
    "                )\n",
    "            generate_btn = gr.Button(\"Generate\")\n",
    "\n",
    "            # Display generation time\n",
    "            status = gr.Text(label=\"Generation Time\")\n",
    "\n",
    "        with gr.Column(scale=2):\n",
    "            output = gr.Image(label=\"Generated Image\")\n",
    "            gallery = gr.Gallery(label=\"History\", show_label=True, columns=3, height=300)\n",
    "\n",
    "    generate_btn.click(\n",
    "        fn=generate,\n",
    "        inputs=[prompt, negative_prompt, model_name, style, cfg, size],\n",
    "        outputs=[output, status, gallery]\n",
    "    )\n",
    "\n",
    "demo.launch()"
   ]
  }
 ],
 "metadata": {
  "accelerator": "GPU",
  "colab": {
   "gpuType": "T4",
   "provenance": []
  },
  "kernelspec": {
   "display_name": "Python 3",
   "name": "python3"
  },
  "language_info": {
   "name": "python"
  }
 },
 "nbformat": 4,
 "nbformat_minor": 0
}
